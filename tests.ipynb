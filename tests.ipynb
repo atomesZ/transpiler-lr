{
 "cells": [
  {
   "cell_type": "code",
   "execution_count": 5,
   "metadata": {
    "collapsed": false,
    "pycharm": {
     "name": "#%%\n"
    }
   },
   "outputs": [
    {
     "data": {
      "text/plain": [
       "['model.joblib']"
      ]
     },
     "execution_count": 5,
     "metadata": {},
     "output_type": "execute_result"
    }
   ],
   "source": [
    "import pandas as pd\n",
    "import joblib\n",
    "\n",
    "df = pd.read_csv(\"tumors.csv\")\n",
    "\n",
    "from sklearn.linear_model import LinearRegression\n",
    "\n",
    "model = LinearRegression()\n",
    "\n",
    "X = df[[\"size\", \"p53_concentration\"]]\n",
    "y = df[\"is_cancerous\"]\n",
    "\n",
    "model.fit(X, y)\n",
    "\n",
    "joblib.dump(model, \"model.joblib\")"
   ]
  },
  {
   "cell_type": "code",
   "execution_count": 104,
   "metadata": {
    "collapsed": false,
    "pycharm": {
     "name": "#%%\n"
    }
   },
   "outputs": [],
   "source": [
    "import os\n",
    "\n",
    "to_predict = [-0.0041649365241367, 0.0017850734344602]\n",
    "#to_predict = [2.7, 3.2]\n",
    "\n",
    "def produce_linear_regression_c_code():\n",
    "\n",
    "    model = joblib.load('model.joblib')\n",
    "\n",
    "    len_thetas = len(model.coef_) + 1\n",
    "\n",
    "    thetas = f\"{model.intercept_}f,\"\n",
    "\n",
    "    for coef in model.coef_:\n",
    "        thetas += str(coef) + \"f,\"\n",
    "\n",
    "    thetas = thetas.strip(\",\")\n",
    "\n",
    "    prediction_code = f\"float thetas[{len_thetas}] = {{{thetas}}};\"\n",
    "\n",
    "    to_predict_c = \"\"\n",
    "\n",
    "    for value in to_predict:\n",
    "        to_predict_c += str(value) + \"f,\"\n",
    "\n",
    "    to_predict_c = to_predict_c.strip(\",\")\n",
    "\n",
    "    code = f\"\"\"\n",
    "    #include <stdio.h>\n",
    "\n",
    "    {prediction_code}\n",
    "    float prediction(float *features, int n_feature)\n",
    "    {{\n",
    "        float res = thetas[0];\n",
    "\n",
    "        for (int i = 0; i < n_feature; ++i)\n",
    "            res += features[i] * thetas[i+1];\n",
    "\n",
    "        return res;\n",
    "    }}\n",
    "    int main()\n",
    "    {{\n",
    "        float to_predict[2] = {{{to_predict_c}}};\n",
    "\n",
    "        printf(\"%f\\\\n\", prediction(to_predict, 2));\n",
    "\n",
    "        return 0;\n",
    "    }}\n",
    "    \"\"\"\n",
    "\n",
    "    with open(\"fichier.c\", \"w\") as f:\n",
    "        f.write(code)\n",
    "\n",
    "    if os.system(\"gcc fichier.c -O3 -o main\"):\n",
    "        print(\"Compile error\")\n",
    "produce_linear_regression_c_code()"
   ]
  },
  {
   "cell_type": "code",
   "execution_count": 105,
   "metadata": {
    "collapsed": false,
    "pycharm": {
     "name": "#%%\n"
    }
   },
   "outputs": [],
   "source": [
    "!gcc fichier.c -O3 -o main"
   ]
  },
  {
   "cell_type": "code",
   "execution_count": 106,
   "metadata": {
    "collapsed": false,
    "pycharm": {
     "name": "#%%\n"
    }
   },
   "outputs": [
    {
     "name": "stdout",
     "output_type": "stream",
     "text": [
      "C code output:\n",
      "0.629072\r\n",
      "Model output: [0.6290722]\n"
     ]
    }
   ],
   "source": [
    "produce_linear_regression_c_code()\n",
    "\n",
    "print(\"C code output:\")\n",
    "!./main\n",
    "print(\"Model output:\", model.predict([to_predict]))"
   ]
  },
  {
   "cell_type": "code",
   "execution_count": 25,
   "metadata": {
    "collapsed": false,
    "pycharm": {
     "name": "#%%\n"
    }
   },
   "outputs": [
    {
     "data": {
      "text/plain": [
       "array([0.6290722])"
      ]
     },
     "execution_count": 25,
     "metadata": {},
     "output_type": "execute_result"
    }
   ],
   "source": [
    "model.predict([list(df.iloc[0, :2])])"
   ]
  },
  {
   "cell_type": "code",
   "execution_count": 26,
   "metadata": {
    "collapsed": false,
    "pycharm": {
     "name": "#%%\n"
    }
   },
   "outputs": [
    {
     "data": {
      "text/plain": [
       "[-0.0041649365241367, 0.0017850734344602]"
      ]
     },
     "execution_count": 26,
     "metadata": {},
     "output_type": "execute_result"
    }
   ],
   "source": [
    "list(df.iloc[0, :2])"
   ]
  },
  {
   "cell_type": "code",
   "execution_count": 50,
   "metadata": {
    "collapsed": false,
    "pycharm": {
     "name": "#%%\n"
    }
   },
   "outputs": [
    {
     "data": {
      "text/plain": [
       "array([0.6290722])"
      ]
     },
     "execution_count": 50,
     "metadata": {},
     "output_type": "execute_result"
    }
   ],
   "source": [
    "model.predict([[-0.0041649365241367, 0.0017850734344602]])"
   ]
  }
 ],
 "metadata": {
  "kernelspec": {
   "display_name": "Python 3",
   "language": "python",
   "name": "python3"
  },
  "language_info": {
   "codemirror_mode": {
    "name": "ipython",
    "version": 2
   },
   "file_extension": ".py",
   "mimetype": "text/x-python",
   "name": "python",
   "nbconvert_exporter": "python",
   "pygments_lexer": "ipython2",
   "version": "3.8.10"
  }
 },
 "nbformat": 4,
 "nbformat_minor": 0
}
